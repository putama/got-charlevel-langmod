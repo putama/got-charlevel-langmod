{
 "cells": [
  {
   "cell_type": "markdown",
   "metadata": {},
   "source": [
    "# Character-level RNN Language Model written in Tensorflow.\n",
    "\n",
    "## Part 1: LSTM RNN language modeling\n",
    "\n",
    "The purpose of this notebook is to demonstrate how we could build Recurrent Neural Network for character language modeling and train them on the George R.R. Martin's Game of Thrones novel series. We will show how this learned language model to able to generate sequences of character that constitute story text with similar style as the GoT's novel text.\n",
    "\n",
    "To read:\n",
    "- Tensorflow implementation of dynamic rnn, sequence loss by example\n",
    "\n",
    "To fix:\n",
    "- On evaluation, rnn cell should sample the output from the previous state instead"
   ]
  },
  {
   "cell_type": "code",
   "execution_count": 1,
   "metadata": {
    "collapsed": true
   },
   "outputs": [],
   "source": [
    "# import all required libraries\n",
    "import numpy as np\n",
    "import tensorflow as tf\n",
    "\n",
    "import collections\n",
    "import time"
   ]
  },
  {
   "cell_type": "code",
   "execution_count": 2,
   "metadata": {
    "collapsed": false
   },
   "outputs": [],
   "source": [
    "# define parameters of the program\n",
    "corpus_path = '../data/got_all_edited.txt'\n",
    "\n",
    "num_epoch = 30\n",
    "\n",
    "batch_size = 30\n",
    "num_steps = 60\n",
    "embedding_size = 100\n",
    "\n",
    "hidden_unit_size = 256\n",
    "vocabulary_size = 20000\n",
    "learning_rate = 1e-4\n",
    "\n",
    "STOP_TOKEN = '*STOP*'"
   ]
  },
  {
   "cell_type": "code",
   "execution_count": 3,
   "metadata": {
    "collapsed": true
   },
   "outputs": [],
   "source": [
    "# define a function to load and preprocess the text corpus then return list of chars\n",
    "def read_file(path):\n",
    "    with open(corpus_path) as f:\n",
    "        char_tokens = ['*STOP*']\n",
    "        text = f.read()\n",
    "        char_tokens.extend(text)\n",
    "        \n",
    "        for i in range(len(char_tokens)):\n",
    "            if char_tokens[i] == '\\n':\n",
    "                char_tokens[i] = STOP_TOKEN\n",
    "        \n",
    "        return char_tokens"
   ]
  },
  {
   "cell_type": "code",
   "execution_count": 4,
   "metadata": {
    "collapsed": false
   },
   "outputs": [],
   "source": [
    "def build_dataset(tokens):\n",
    "    counts = []\n",
    "    counts.extend(collections.Counter(tokens).most_common())\n",
    "    \n",
    "    dictionary = dict()\n",
    "    data = list()\n",
    "    \n",
    "    for token, _ in counts:\n",
    "        dictionary[token] = len(dictionary)\n",
    "        \n",
    "    for token in tokens:\n",
    "        data.append(dictionary[token])\n",
    "        \n",
    "    reverse_dictionary = dict(zip(dictionary.values(), dictionary.keys()))\n",
    "    \n",
    "    return data, dictionary, reverse_dictionary"
   ]
  },
  {
   "cell_type": "code",
   "execution_count": 5,
   "metadata": {
    "collapsed": true
   },
   "outputs": [],
   "source": [
    "def generate_batch(dataset, batch_size, num_steps, offset=0):\n",
    "    assert offset + batch_size * num_steps < len(dataset)\n",
    "    \n",
    "    batch_context = np.ndarray((batch_size, num_steps), dtype=np.int32)\n",
    "    batch_target = np.ndarray((batch_size, num_steps), dtype=np.int32)\n",
    "    \n",
    "    for i in range(batch_size):\n",
    "        batch_context[i] = dataset[offset : offset+num_steps]\n",
    "        batch_target[i] = dataset[offset+1 : offset+num_steps+1]\n",
    "        offset += num_steps\n",
    "        \n",
    "    return batch_context, batch_target, offset"
   ]
  },
  {
   "cell_type": "code",
   "execution_count": 6,
   "metadata": {
    "collapsed": true
   },
   "outputs": [],
   "source": [
    "tokens = read_file(corpus_path)\n",
    "data, tokendict, tokendictreversed = build_dataset(tokens)\n",
    "\n",
    "vocabsize = len(tokendict)"
   ]
  },
  {
   "cell_type": "code",
   "execution_count": 7,
   "metadata": {
    "collapsed": false
   },
   "outputs": [],
   "source": [
    "# split the data to training set and held out set\n",
    "for i in range(int(0.8*len(data)), len(data)):\n",
    "    if data[i] == tokendict[STOP_TOKEN]:\n",
    "        traindata = data[0:i]\n",
    "        devdata = data[i:len(data)]\n",
    "        break"
   ]
  },
  {
   "cell_type": "code",
   "execution_count": 8,
   "metadata": {
    "collapsed": false
   },
   "outputs": [
    {
     "name": "stdout",
     "output_type": "stream",
     "text": [
      "*STOP*\"We should start back,\" Gared urged as the woods began to g --> \n",
      "\"We should start back,\" Gared urged as the woods began to gr\n",
      "----------\n",
      "row dark around them. \"The wildlings are dead.\"*STOP*\"Do the dead --> \n",
      "ow dark around them. \"The wildlings are dead.\"*STOP*\"Do the dead \n",
      "----------\n",
      " frighten you?\" Ser Waymar Royce asked with just the hint of --> \n",
      "frighten you?\" Ser Waymar Royce asked with just the hint of \n",
      "----------\n",
      " a smile.*STOP*Gared did not rise to the bait. He was an old man, --> \n",
      "a smile.*STOP*Gared did not rise to the bait. He was an old man, \n",
      "----------\n",
      " past fifty, and he had seen the lordlings come and go. \"Dea --> \n",
      "past fifty, and he had seen the lordlings come and go. \"Dead\n",
      "----------\n"
     ]
    }
   ],
   "source": [
    "train, label, _ = generate_batch(data, 5, num_steps)\n",
    "for batch_train, batch_label in zip(train, label):\n",
    "    print ''.join([tokendictreversed[token] for token in batch_train]) + ' --> '\n",
    "    print ''.join([tokendictreversed[word] for word in batch_label])\n",
    "    print '----------'"
   ]
  },
  {
   "cell_type": "code",
   "execution_count": null,
   "metadata": {
    "collapsed": false
   },
   "outputs": [],
   "source": [
    "graph = tf.Graph()\n",
    "with graph.as_default():\n",
    "    # setup input and labels placeholders\n",
    "    train_inputs = tf.placeholder(tf.int32, shape=[None, num_steps])\n",
    "    train_labels = tf.placeholder(tf.int32, shape=[None, num_steps])\n",
    "    keep_prob = tf.placeholder(tf.float32)\n",
    "    bsize = tf.placeholder(tf.int32)\n",
    "    \n",
    "    # instantiate embedding matrix\n",
    "    charvectors = tf.Variable(tf.random_normal([vocabsize, embedding_size]))\n",
    "    charvector = tf.nn.embedding_lookup(charvectors, train_inputs)\n",
    "    charvector = tf.nn.dropout(charvector, keep_prob)\n",
    "    \n",
    "    # define the rnn cell and the initial state\n",
    "    rnn_cell = tf.nn.rnn_cell.BasicLSTMCell(hidden_unit_size, forget_bias=0.0, state_is_tuple=True)\n",
    "    init_state = rnn_cell.zero_state(bsize, tf.float32)\n",
    "    rnn_outputs, final_state = tf.nn.dynamic_rnn(rnn_cell, charvector, initial_state=init_state)   \n",
    "        \n",
    "    # reshape the outputs into 2D vectors\n",
    "    rnn_outputs = tf.reshape(rnn_outputs, [bsize * num_steps, hidden_unit_size])\n",
    "     \n",
    "    logits_weights = tf.Variable(tf.truncated_normal([hidden_unit_size, vocabsize], stddev=0.1))\n",
    "    logits_biases = tf.Variable(tf.zeros([vocabsize]))\n",
    "    logits = tf.matmul(rnn_outputs, logits_weights) + logits_biases\n",
    "    \n",
    "    loss_weights = tf.ones([batch_size * num_steps])\n",
    "    losses = tf.nn.seq2seq.sequence_loss_by_example([logits], [train_labels], [loss_weights])\n",
    "    loss = tf.reduce_sum(losses) / batch_size\n",
    "        \n",
    "    train_step = tf.train.AdamOptimizer(learning_rate).minimize(loss)"
   ]
  },
  {
   "cell_type": "code",
   "execution_count": null,
   "metadata": {
    "collapsed": false,
    "scrolled": true
   },
   "outputs": [
    {
     "name": "stdout",
     "output_type": "stream",
     "text": [
      "Epoch: 1, Time elapsed: 42.38 s, Tokens trained: 1440000, Perplexity: 14.4256\n",
      "Epoch: 1, Time elapsed: 85.80 s, Tokens trained: 2880000, Perplexity: 11.4634\n",
      "Epoch: 1, Time elapsed: 127.95 s, Tokens trained: 4320000, Perplexity: 10.3102\n",
      "Epoch: 1, Time elapsed: 169.43 s, Tokens trained: 5760000, Perplexity: 9.6342\n",
      "Epoch: 1, Time elapsed: 209.55 s, Tokens trained: 7200000, Perplexity: 9.1133\n",
      "*** Evaluation Epoch: 1, Tokens trained: 1936800, Perplexity: 7.3169 ***\n",
      "Epoch completed. Checkpoint saved as: checkpoints/char_rnn_langmodel.ckpt\n",
      "Epoch: 2, Time elapsed: 40.47 s, Tokens trained: 1440000, Perplexity: 6.7865\n",
      "Epoch: 2, Time elapsed: 80.46 s, Tokens trained: 2880000, Perplexity: 6.7160\n",
      "Epoch: 2, Time elapsed: 120.39 s, Tokens trained: 4320000, Perplexity: 6.6753\n",
      "Epoch: 2, Time elapsed: 162.01 s, Tokens trained: 5760000, Perplexity: 6.6344\n",
      "Epoch: 2, Time elapsed: 203.20 s, Tokens trained: 7200000, Perplexity: 6.5662\n",
      "*** Evaluation Epoch: 2, Tokens trained: 1936800, Perplexity: 6.4441 ***\n",
      "Epoch completed. Checkpoint saved as: checkpoints/char_rnn_langmodel.ckpt\n",
      "Epoch: 3, Time elapsed: 40.98 s, Tokens trained: 1440000, Perplexity: 5.9910\n",
      "Epoch: 3, Time elapsed: 82.72 s, Tokens trained: 2880000, Perplexity: 5.9866\n",
      "Epoch: 3, Time elapsed: 122.98 s, Tokens trained: 4320000, Perplexity: 5.9834\n",
      "Epoch: 3, Time elapsed: 164.22 s, Tokens trained: 5760000, Perplexity: 5.9783\n",
      "Epoch: 3, Time elapsed: 205.38 s, Tokens trained: 7200000, Perplexity: 5.9494\n",
      "*** Evaluation Epoch: 3, Tokens trained: 1936800, Perplexity: 6.0150 ***\n",
      "Epoch completed. Checkpoint saved as: checkpoints/char_rnn_langmodel.ckpt\n",
      "Epoch: 4, Time elapsed: 41.94 s, Tokens trained: 1440000, Perplexity: 5.5699\n",
      "Epoch: 4, Time elapsed: 85.87 s, Tokens trained: 2880000, Perplexity: 5.5896\n",
      "Epoch: 4, Time elapsed: 128.86 s, Tokens trained: 4320000, Perplexity: 5.6010\n",
      "Epoch: 4, Time elapsed: 170.38 s, Tokens trained: 5760000, Perplexity: 5.6081\n",
      "Epoch: 4, Time elapsed: 211.24 s, Tokens trained: 7200000, Perplexity: 5.5947\n",
      "*** Evaluation Epoch: 4, Tokens trained: 1936800, Perplexity: 5.7397 ***\n",
      "Epoch completed. Checkpoint saved as: checkpoints/char_rnn_langmodel.ckpt\n",
      "Epoch: 5, Time elapsed: 43.71 s, Tokens trained: 1440000, Perplexity: 5.3011\n",
      "Epoch: 5, Time elapsed: 85.61 s, Tokens trained: 2880000, Perplexity: 5.3328\n",
      "Epoch: 5, Time elapsed: 125.98 s, Tokens trained: 4320000, Perplexity: 5.3509\n",
      "Epoch: 5, Time elapsed: 168.23 s, Tokens trained: 5760000, Perplexity: 5.3642\n",
      "Epoch: 5, Time elapsed: 208.42 s, Tokens trained: 7200000, Perplexity: 5.3584\n"
     ]
    }
   ],
   "source": [
    "with tf.Session(graph=graph) as sess:\n",
    "    tf.initialize_all_variables().run()\n",
    "    \n",
    "    var_saver = tf.train.Saver(tf.trainable_variables())\n",
    "    path = 'checkpoints/char_rnn_langmodel.ckpt'\n",
    "    \n",
    "    for epoch in range(num_epoch):\n",
    "        start_time = time.time()\n",
    "        \n",
    "        ############ train the model on the training set ######################\n",
    "        offset = 0\n",
    "        total_loss = 0.\n",
    "        iters = 0\n",
    "        seqs = 0\n",
    "        training_state = sess.run(init_state, feed_dict={bsize: batch_size})\n",
    "        while offset + batch_size * num_steps < len(traindata):\n",
    "            batch_context, batch_target, offset = generate_batch(traindata, batch_size, num_steps, offset)\n",
    "            feed_dict = {train_inputs: batch_context, train_labels: batch_target, \n",
    "                         keep_prob: .5, init_state:training_state,\n",
    "                         bsize: batch_size}\n",
    "            training_loss, training_state, _ = sess.run([loss, final_state, train_step], feed_dict=feed_dict)\n",
    "            \n",
    "            total_loss += training_loss\n",
    "            iters += num_steps\n",
    "        \n",
    "            seqs += batch_size\n",
    "        \n",
    "            if seqs % 8000 == 0:\n",
    "                perplexity = np.exp(total_loss / iters)\n",
    "                print 'Epoch: %d, Time elapsed: %.2f s, Tokens trained: %04d, Perplexity: %.4f' % \\\n",
    "                    (epoch+1, (time.time() - start_time), offset, perplexity)\n",
    "                    \n",
    "        ############ evaluate the trained model on development set #############\n",
    "        dev_offset = 0\n",
    "        dev_total_loss = 0.\n",
    "        dev_iters = 0\n",
    "        dev_seqs = 0\n",
    "        dev_state = sess.run(init_state, feed_dict={bsize: batch_size})\n",
    "        while dev_offset + batch_size * num_steps < len(devdata):\n",
    "            batch_context, batch_target, dev_offset = generate_batch(devdata, batch_size, num_steps, dev_offset)\n",
    "            feed_dict = {train_inputs: batch_context, train_labels: batch_target, \n",
    "                         keep_prob: .5, init_state:dev_state,\n",
    "                         bsize: batch_size}\n",
    "            training_loss, dev_state = sess.run([loss, final_state], feed_dict=feed_dict)\n",
    "            \n",
    "            dev_total_loss += training_loss\n",
    "            dev_iters += num_steps\n",
    "        \n",
    "            dev_seqs += batch_size\n",
    "        \n",
    "        perplexity = np.exp(dev_total_loss / dev_iters)\n",
    "        print '*** Evaluation Epoch: %d, Tokens trained: %04d, Perplexity: %.4f ***' % \\\n",
    "            (epoch+1, dev_offset, perplexity)\n",
    "                    \n",
    "        # save checkpoint every 10000 train steps\n",
    "        checkpoint_path = var_saver.save(sess, path)\n",
    "        print 'Epoch completed. Checkpoint saved as: %s' % (checkpoint_path)"
   ]
  }
 ],
 "metadata": {
  "anaconda-cloud": {},
  "kernelspec": {
   "display_name": "Python [default]",
   "language": "python",
   "name": "python2"
  },
  "language_info": {
   "codemirror_mode": {
    "name": "ipython",
    "version": 2
   },
   "file_extension": ".py",
   "mimetype": "text/x-python",
   "name": "python",
   "nbconvert_exporter": "python",
   "pygments_lexer": "ipython2",
   "version": "2.7.12"
  }
 },
 "nbformat": 4,
 "nbformat_minor": 1
}
